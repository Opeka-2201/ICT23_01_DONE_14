{
 "cells": [
  {
   "cell_type": "markdown",
   "metadata": {
    "deletable": false,
    "editable": false,
    "id": "sbddNKfu14bM"
   },
   "source": [
    "# Project 1 - Information measures\n",
    "\n",
    "The goal of this first project is to get accustomed to the information and uncertainty measures. We ask you to write a brief report (pdf format) collecting your answers to the different questions. All codes must be written in Python inside this Jupyter Notebook. No other code file will be accepted. Note that you can not change the content of locked cells or import any extra Python library than the ones already imported (numpy and pandas)."
   ]
  },
  {
   "cell_type": "markdown",
   "metadata": {
    "deletable": false,
    "editable": false,
    "id": "IPhOrEZC14bP"
   },
   "source": [
    "## Implementation\n",
    "\n",
    "In this project, you will need to use information measures to answer several questions. Therefore, in this first part, you are asked to write several functions that implement some of the main measures seen in the first theoretical lectures. Remember that you need to fill in this Jupyter Notebook to answer these questions. Pay particular attention to the required output format of each function."
   ]
  },
  {
   "cell_type": "code",
   "execution_count": 2,
   "metadata": {
    "deletable": false,
    "editable": false,
    "id": "1ZGhdEwn14bP"
   },
   "outputs": [],
   "source": [
    "# [Locked Cell] You can not import any extra Python library in this Notebook.\n",
    "import numpy as np\n",
    "import pandas as pd"
   ]
  },
  {
   "cell_type": "markdown",
   "metadata": {
    "deletable": false,
    "editable": false,
    "id": "JFiTJaFG14bQ"
   },
   "source": [
    "### Question 1\n",
    "\n",
    "Write a function entropy that computes the entropy $\\mathcal{H(X)}$ of a random variable $\\mathcal{X}$ from its probability distribution $P_\\mathcal{X} = (p_1, p_2, . . . , p_n)$. Give the mathematical formula that you are using and explain the key parts of your implementation. Intuitively, what is measured by the entropy?"
   ]
  },
  {
   "cell_type": "code",
   "execution_count": 3,
   "metadata": {
    "id": "_4WYMYKx14bR"
   },
   "outputs": [],
   "source": [
    "def entropy(Px):\n",
    "    \"\"\"\n",
    "    Computes the entropy from the marginal probability distribution. \n",
    "    Arguments:\n",
    "    ----------\n",
    "    - Px :  Marginal probability distribution of the random \n",
    "            variable X in a numpy array where Px[i]=P(X=i)\n",
    "    Return:\n",
    "    -------\n",
    "    - The entropy of X (H(X)) as a number (integer, float or double).\n",
    "    \"\"\"\n",
    "    n = Px.size\n",
    "    if n <= 1:\n",
    "        return 0\n",
    "    # Compute H(X)\n",
    "    log_Px = np.log2(Px, out=np.zeros_like(Px), where=(Px != 0))\n",
    "    Hx = -np.sum(Px * log_Px)\n",
    "\n",
    "    return Hx"
   ]
  },
  {
   "cell_type": "markdown",
   "metadata": {
    "deletable": false,
    "editable": false,
    "id": "LJ2Q0y5a14bR"
   },
   "source": [
    "### Question 2\n",
    "\n",
    "Write a function joint_entropy that computes the joint entropy $\\mathcal{H(X,Y)}$ of two discrete random variables $\\mathcal{X}$ and $\\mathcal{Y}$ from the joint probability distribution $P_\\mathcal{X,Y}$. Give the mathematical formula that you are using and explain the key parts of your implementation. Compare the entropy and joint_entropy functions (and their corresponding formulas), what do you notice?"
   ]
  },
  {
   "cell_type": "code",
   "execution_count": 4,
   "metadata": {
    "id": "qqK4N-_q14bS"
   },
   "outputs": [],
   "source": [
    "def joint_entropy(Pxy):\n",
    "    \"\"\"\n",
    "    Computes the joint entropy from the joint probability distribution.  \n",
    "    Arguments:\n",
    "    ----------\n",
    "    - Pxy:  joint probability distribution of X and Y \n",
    "            in a 2-D numpy array where Pxy[i][j]=P(X=i,Y=j)\n",
    "    Return:\n",
    "    -------\n",
    "    - The joint entropy H(X,Y) as a number (integer, float or double).\n",
    "    \"\"\"\n",
    "    n = Pxy.size\n",
    "    if n <= 1:\n",
    "        return 0\n",
    "    # Compute H(X,Y) \n",
    "    log_Px_y = np.log2(Pxy, out=np.zeros_like(Pxy), where=(Pxy != 0))\n",
    "    Hxy = -np.sum(Pxy * log_Px_y)\n",
    "\n",
    "    return Hxy"
   ]
  },
  {
   "cell_type": "markdown",
   "metadata": {
    "deletable": false,
    "editable": false,
    "id": "gxqVI5qt14bS"
   },
   "source": [
    "### Question 3\n",
    "\n",
    "Write a function conditional_entropy that computes the conditional entropy $\\mathcal{H(X|Y)}$ of a discrete random variable $\\mathcal{X}$ given another discrete random variable $\\mathcal{Y}$ from the joint probability distribution $P_\\mathcal{X,Y}$. Give the mathematical formula that you are using and explain the key parts of your implementation. Describe an equivalent way of computing that quantity."
   ]
  },
  {
   "cell_type": "code",
   "execution_count": 5,
   "metadata": {
    "id": "P-HBnYxh14bS"
   },
   "outputs": [
    {
     "data": {
      "text/plain": [
       "1.3509775004326938"
      ]
     },
     "execution_count": 5,
     "metadata": {},
     "output_type": "execute_result"
    }
   ],
   "source": [
    "def conditional_entropy(Pxy):\n",
    "    \"\"\"\n",
    "    Computes the conditional entropy from the joint probability distribution.\n",
    "    Arguments:\n",
    "    ----------\n",
    "    - Pxy:  joint probability distribution of X and Y \n",
    "            in a 2-D numpy array where Pxy[i][j]=P(X=i,Y=j)\n",
    "    Return:\n",
    "    -------\n",
    "    - The conditional entropy H(X|Y) as a number (integer, float or double)\n",
    "    \"\"\"\n",
    "    n = Pxy.size\n",
    "    if n <= 1:\n",
    "        return 0\n",
    "    # Compute P(Y)\n",
    "    Py = np.sum(Pxy, axis=0)\n",
    "\n",
    "    # Compute P(X|Y)\n",
    "    Px_y = Pxy / Py\n",
    "    \n",
    "    Px_y[np.isnan(Px_y)] = 0\n",
    "\n",
    "    # Compute H(X|Y)\n",
    "    log_Px_y = np.log2(Px_y, out=np.zeros_like(Px_y), where=(Px_y != 0))\n",
    "    Hx_y = -np.sum(Pxy * log_Px_y)\n",
    "\n",
    "    return Hx_y\n",
    "\n",
    "joint_prob = np.array([[0.2, 0.1, 0.1], [0.1, 0.1, 0.2], [0.1, 0.1, 0]])\n",
    "conditional_entropy(joint_prob)"
   ]
  },
  {
   "cell_type": "markdown",
   "metadata": {
    "deletable": false,
    "editable": false,
    "id": "t5a3I5RV14bT"
   },
   "source": [
    "### Question 4\n",
    "\n",
    "Write a function mutual_information that computes the mutual information $\\mathcal{I(X;Y)}$ between two discrete random variables $\\mathcal{X}$ and $\\mathcal{Y}$ from the joint probability distribution $P_\\mathcal{X,Y}$ . Give the mathematical formula that you are using and explain the key parts of your implementation. What can you deduce from the mutual information $\\mathcal{I(X;Y)}$ on the relationship between $\\mathcal{X}$ and $\\mathcal{Y}$? Discuss."
   ]
  },
  {
   "cell_type": "code",
   "execution_count": 6,
   "metadata": {
    "id": "1-97kFCi14bT"
   },
   "outputs": [
    {
     "data": {
      "text/plain": [
       "0.09581560200335804"
      ]
     },
     "execution_count": 6,
     "metadata": {},
     "output_type": "execute_result"
    }
   ],
   "source": [
    "def mutual_information(Pxy):\n",
    "    \"\"\"\n",
    "    Computes the mutual information I(X;Y) from joint probability distribution\n",
    "    \n",
    "    Arguments:\n",
    "    ----------\n",
    "    - Pxy:  joint probability distribution of X and Y \n",
    "            in a 2-D numpy array where Pxy[i][j]=P(X=i,Y=j)\n",
    "    Return:\n",
    "    -------\n",
    "    - The mutual information I(X;Y) as a number (integer, float or double)\n",
    "    \"\"\"\n",
    "    n = Pxy.size\n",
    "    if n <= 1:\n",
    "        return 0\n",
    "    # Compute P(X) and P(Y)\n",
    "    Px = np.sum(Pxy, axis=1)\n",
    "    Py = np.sum(Pxy, axis=0)\n",
    "\n",
    "    # Compute H(X) and H(Y)\n",
    "    Hx = entropy(Px)\n",
    "    Hy = entropy(Py)\n",
    "\n",
    "    # Compute H(X|Y)\n",
    "    Hxy = conditional_entropy(Pxy)\n",
    "\n",
    "    # Compute I(X,Y)\n",
    "    Ixy = Hx - Hxy\n",
    "\n",
    "    return Ixy\n",
    "\n",
    "joint_prob = np.array([[0.05, 0.1, 0.1], [0.1, 0.05, 0.2], [0.1, 0.2, 0.1]])\n",
    "mutual_information(joint_prob)"
   ]
  },
  {
   "cell_type": "markdown",
   "metadata": {
    "deletable": false,
    "editable": false,
    "id": "HLC7Qkyk14bU"
   },
   "source": [
    "### Question 5\n",
    "\n",
    "Let $\\mathcal{X}$, $\\mathcal{Y}$ and $\\mathcal{Z}$ be three discrete random variables. Write the functions cond_joint_entropy and cond_mutual_information that respectively compute $\\mathcal{H(X,Y|Z)}$ and $\\mathcal{I(X;Y|Z)}$ of two discrete random variable $\\mathcal{X}$, $\\mathcal{Y}$ given another discrete random variable $\\mathcal{Z}$ from their joint probability distribution $P_\\mathcal{X,Y,Z}$. Give the mathematical formulas that you are using and explain the key parts of your implementation.\n",
    "Suggestion: Observe the mathematical definitions of these quantities and think how you could derive them from the joint entropy and the mutual information."
   ]
  },
  {
   "cell_type": "code",
   "execution_count": 28,
   "metadata": {
    "id": "IeWejuNa14bU"
   },
   "outputs": [
    {
     "name": "stdout",
     "output_type": "stream",
     "text": [
      "Conditional joint entropy H(X,Y|Z) = 2.2028928205484966\n"
     ]
    }
   ],
   "source": [
    "def cond_joint_entropy(Pxyz):\n",
    "    \"\"\"\n",
    "    Computes the conditional joint entropy of X, Y knowing Z \n",
    "    from the joint probability distribution Pxyz\n",
    "    Arguments:\n",
    "    ----------\n",
    "    - Pxyz: joint probability distribution of X, Y and Z\n",
    "            in a 3-D array where Pxyz[i][j][k]=P(X=i,Y=j,Z=k)\n",
    "    Return:\n",
    "    -------\n",
    "    - The conditional joint entropy H(X,Y|Z) as a number (integer, float or double)\n",
    "    \n",
    "    \"\"\"\n",
    "    n = Pxyz.size\n",
    "    if n <= 1:\n",
    "        return 0\n",
    "    # Compute P(Z)\n",
    "    Pz = np.sum(Pxyz, axis=(0, 1))\n",
    "\n",
    "    # Compute P(X,Y|Z)\n",
    "    Pxy_z = Pxyz / Pz\n",
    "    Pxy_z[np.isnan(Pxy_z)] = 0\n",
    "\n",
    "    # Compute H(X,Y|Z)\n",
    "    log_Pxy_z = np.log2(Pxy_z, out=np.zeros_like(Pxy_z), where=(Pxy_z != 0))\n",
    "    Hxyz = -np.sum(Pxyz * log_Pxy_z)\n",
    "\n",
    "    return Hxyz\n",
    "\n",
    "Pxyz = np.array([\n",
    "    [[0.1, 0.15, 0.05],\n",
    "     [0.05, 0.1, 0.05],\n",
    "     [0.05, 0, 0.05]],\n",
    "\n",
    "    [[0.05, 0, 0.05],\n",
    "     [0.05, 0.1, 0.05],\n",
    "     [0.05, 0, 0.05]]\n",
    "])\n",
    "\n",
    "# Compute the conditional joint entropy of X and Y given Z\n",
    "Hxyz = cond_joint_entropy(Pxyz)\n",
    "\n",
    "print(\"Conditional joint entropy H(X,Y|Z) =\", Hxyz)"
   ]
  },
  {
   "cell_type": "code",
   "execution_count": 8,
   "metadata": {
    "id": "xPKeiYmc14bV"
   },
   "outputs": [
    {
     "name": "stdout",
     "output_type": "stream",
     "text": [
      "Conditional Mutual Information I(X,Y|Z) = 3.4938045886532687\n"
     ]
    }
   ],
   "source": [
    "def cond_mutual_information(Pxyz):\n",
    "    \"\"\"\n",
    "    Computes the conditional mutual information of X, Y knowing Z \n",
    "    from joint probability distribution Pxyz\n",
    "    Arguments:\n",
    "    ----------\n",
    "    - Pxyz: joint probability distribution of X, Y and Z\n",
    "            in a 3-D array where Pxyz[i][j][k]=P(X=i,Y=j,Z=k)\n",
    "    Return:\n",
    "    -------\n",
    "    - I(X;Y|Z): The conditional joint entropy as a number (integer, float or double)\n",
    "    \n",
    "    \"\"\"\n",
    "    n = Pxyz.size\n",
    "    if n <= 1:\n",
    "        return 0\n",
    "    # Compute P(Z)\n",
    "    Pz = np.sum(Pxyz, axis=(0, 1))\n",
    "\n",
    "    # Compute P(X,Y|Z)\n",
    "    Pxy_z = Pxyz / Pz\n",
    "\n",
    "    # Replace NaN values with zero to avoid runtime warnings\n",
    "    Pxy_z[np.isnan(Pxy_z)] = 0\n",
    "\n",
    "    # Compute H(X|Z)\n",
    "    Hxz = conditional_entropy(np.sum(Pxy_z, axis=1))\n",
    "\n",
    "    # Compute H(X,Y|Z)\n",
    "    Hxyz = cond_joint_entropy(Pxyz)\n",
    "\n",
    "    # Compute H(X|Y,Z)\n",
    "    Hyxz = Hxyz - Hxz\n",
    "\n",
    "    # Compute I(X,Y|Z)\n",
    "    Ixy_z = Hxz - Hyxz\n",
    "\n",
    "    return Ixy_z\n",
    "\n",
    "\n",
    "\n",
    "Pxyz = np.array([\n",
    "    [[0.1, 0.15, 0.05],\n",
    "     [0.05, 0.1, 0.05],\n",
    "     [0.05, 0, 0.05]],\n",
    "\n",
    "    [[0.05, 0, 0.05],\n",
    "     [0.05, 0.1, 0.05],\n",
    "     [0.05, 0, 0.05]]\n",
    "])\n",
    "\n",
    "# Compute the conditional joint entropy of X and Y given Z\n",
    "Ixy_z = cond_mutual_information(Pxyz)\n",
    "\n",
    "print(\"Conditional Mutual Information I(X,Y|Z) =\", Ixy_z)\n",
    "\n"
   ]
  },
  {
   "cell_type": "code",
   "execution_count": 9,
   "metadata": {
    "deletable": false,
    "editable": false,
    "id": "5TfG2aWt14bV"
   },
   "outputs": [],
   "source": [
    "# [Locked Cell] Evaluation of your functions by the examiner. \n",
    "# You don't have access to the evaluation, this will be done by the examiner.\n",
    "# Therefore, this cell will return nothing for the students.\n",
    "import os\n",
    "if os.path.isfile(\"private_evaluation.py\"):\n",
    "    from private_evaluation import unit_tests\n",
    "    unit_tests(entropy, joint_entropy, conditional_entropy, mutual_information, cond_joint_entropy, cond_mutual_information)"
   ]
  },
  {
   "cell_type": "markdown",
   "metadata": {
    "deletable": false,
    "editable": false,
    "id": "4MSJsvry14bV"
   },
   "source": [
    "### Football outcome\n",
    "\n",
    "You may create cells below to answer the different questions related to football outcome. Unlike in the first part (Implementation), you are free to define as many cells as you need below to answer the different questions. Try to be structured and clear in your code (comment it if necessary). Note that you have to answer the questions in the pdf report, including the numbers you get!"
   ]
  },
  {
   "cell_type": "code",
   "execution_count": 10,
   "metadata": {
    "id": "nck547oL14bW"
   },
   "outputs": [
    {
     "data": {
      "text/html": [
       "<div>\n",
       "<style scoped>\n",
       "    .dataframe tbody tr th:only-of-type {\n",
       "        vertical-align: middle;\n",
       "    }\n",
       "\n",
       "    .dataframe tbody tr th {\n",
       "        vertical-align: top;\n",
       "    }\n",
       "\n",
       "    .dataframe thead th {\n",
       "        text-align: right;\n",
       "    }\n",
       "</style>\n",
       "<table border=\"1\" class=\"dataframe\">\n",
       "  <thead>\n",
       "    <tr style=\"text-align: right;\">\n",
       "      <th></th>\n",
       "      <th>outcome</th>\n",
       "      <th>previous_outcome</th>\n",
       "      <th>day</th>\n",
       "      <th>time</th>\n",
       "      <th>month</th>\n",
       "      <th>wind_speed</th>\n",
       "      <th>weather</th>\n",
       "      <th>location</th>\n",
       "      <th>capacity</th>\n",
       "      <th>stadium_state</th>\n",
       "      <th>injury</th>\n",
       "      <th>match_type</th>\n",
       "      <th>opponent_strength</th>\n",
       "    </tr>\n",
       "  </thead>\n",
       "  <tbody>\n",
       "    <tr>\n",
       "      <th>0</th>\n",
       "      <td>loss</td>\n",
       "      <td>loss</td>\n",
       "      <td>saturday</td>\n",
       "      <td>morning</td>\n",
       "      <td>september</td>\n",
       "      <td>no_wind</td>\n",
       "      <td>sunny</td>\n",
       "      <td>home</td>\n",
       "      <td>medium</td>\n",
       "      <td>dry</td>\n",
       "      <td>no</td>\n",
       "      <td>friendly</td>\n",
       "      <td>average</td>\n",
       "    </tr>\n",
       "    <tr>\n",
       "      <th>1</th>\n",
       "      <td>win</td>\n",
       "      <td>win</td>\n",
       "      <td>sunday</td>\n",
       "      <td>morning</td>\n",
       "      <td>march</td>\n",
       "      <td>low</td>\n",
       "      <td>cloudy</td>\n",
       "      <td>away</td>\n",
       "      <td>small</td>\n",
       "      <td>dry</td>\n",
       "      <td>no</td>\n",
       "      <td>competitive</td>\n",
       "      <td>weak</td>\n",
       "    </tr>\n",
       "    <tr>\n",
       "      <th>2</th>\n",
       "      <td>win</td>\n",
       "      <td>loss</td>\n",
       "      <td>monday</td>\n",
       "      <td>evening</td>\n",
       "      <td>october</td>\n",
       "      <td>high</td>\n",
       "      <td>rainy</td>\n",
       "      <td>away</td>\n",
       "      <td>medium</td>\n",
       "      <td>wet</td>\n",
       "      <td>no</td>\n",
       "      <td>friendly</td>\n",
       "      <td>average</td>\n",
       "    </tr>\n",
       "    <tr>\n",
       "      <th>3</th>\n",
       "      <td>tie</td>\n",
       "      <td>tie</td>\n",
       "      <td>wednesday</td>\n",
       "      <td>evening</td>\n",
       "      <td>september</td>\n",
       "      <td>low</td>\n",
       "      <td>sunny</td>\n",
       "      <td>home</td>\n",
       "      <td>medium</td>\n",
       "      <td>dry</td>\n",
       "      <td>no</td>\n",
       "      <td>competitive</td>\n",
       "      <td>strong</td>\n",
       "    </tr>\n",
       "    <tr>\n",
       "      <th>4</th>\n",
       "      <td>win</td>\n",
       "      <td>tie</td>\n",
       "      <td>thursday</td>\n",
       "      <td>evening</td>\n",
       "      <td>march</td>\n",
       "      <td>low</td>\n",
       "      <td>cloudy</td>\n",
       "      <td>home</td>\n",
       "      <td>medium</td>\n",
       "      <td>dry</td>\n",
       "      <td>yes</td>\n",
       "      <td>friendly</td>\n",
       "      <td>weak</td>\n",
       "    </tr>\n",
       "  </tbody>\n",
       "</table>\n",
       "</div>"
      ],
      "text/plain": [
       "  outcome previous_outcome        day     time      month wind_speed weather  \\\n",
       "0    loss             loss   saturday  morning  september    no_wind   sunny   \n",
       "1     win              win     sunday  morning      march        low  cloudy   \n",
       "2     win             loss     monday  evening    october       high   rainy   \n",
       "3     tie              tie  wednesday  evening  september        low   sunny   \n",
       "4     win              tie   thursday  evening      march        low  cloudy   \n",
       "\n",
       "  location capacity stadium_state injury   match_type opponent_strength  \n",
       "0     home   medium           dry     no     friendly           average  \n",
       "1     away    small           dry     no  competitive              weak  \n",
       "2     away   medium           wet     no     friendly           average  \n",
       "3     home   medium           dry     no  competitive            strong  \n",
       "4     home   medium           dry    yes     friendly              weak  "
      ]
     },
     "execution_count": 10,
     "metadata": {},
     "output_type": "execute_result"
    }
   ],
   "source": [
    "# Load the dataset \n",
    "df = pd.read_csv('data.csv')\n",
    "df.head(5)"
   ]
  },
  {
   "cell_type": "code",
   "execution_count": 27,
   "metadata": {},
   "outputs": [],
   "source": [
    "N = df.size\n",
    "\n",
    "P_loss = df[df['outcome']== 'loss'].size/N\n",
    "P_win = df[df['outcome']== 'win'].size/N\n",
    "P_tie = df[df['outcome']== 'tie'].size/N\n",
    "\n",
    "P_outcomes = np.array([P_tie , P_win , P_loss])\n",
    "\n",
    "E_outcomes =  entropy(P_outcomes)\n",
    "    \n",
    "    \n",
    "\n",
    "P_prev_loss = df[df['previous_outcome']== 'loss'].size/N\n",
    "P_prev_win = df[df['previous_outcome']== 'win'].size/N\n",
    "P_prev_tie = df[df['previous_outcome']== 'tie'].size/N\n",
    "\n",
    "\n",
    "P_prev_outcomes = np.array([P_prev_tie , P_prev_win , P_prev_loss])\n",
    "\n",
    "E_prev_outcomes =  entropy(P_prev_outcomes)\n",
    "\n",
    "P_monday = df[df['day']== 'monday'].size/N\n",
    "P_tuesday = df[df['day']== 'tuesday'].size/N\n",
    "P_wednesday =df[df['day']== 'wednesday'].size/N\n",
    "P_thursday = df[df['day']== 'thursday'].size/N\n",
    "P_friday =df[df['day']== 'friday'].size/N\n",
    "P_saturday =df[df['day']== 'saturday'].size/N\n",
    "P_sunday =df[df['day']== 'sunday'].size/N\n",
    "\n",
    "P_day = np.array([P_monday ,P_tuesday ,P_wednesday ,P_thursday ,P_friday ,P_saturday,P_sunday])\n",
    "\n",
    "E_day = entropy(P_day)\n",
    "\n",
    "\n",
    "P_morning = df[df['time']== 'morning'].size/N\n",
    "P_afternoon = df[df['time']== 'afternoon'].size/N\n",
    "P_evening = df[df['time']== 'evening'].size/N\n",
    "\n",
    "P_times = np.array([P_morning , P_afternoon , P_evening])\n",
    "\n",
    "E_times =  entropy(P_times)\n",
    "\n",
    "P_jan = df[df['month']== 'january'].size/N\n",
    "P_feb = df[df['month']== 'february'].size/N\n",
    "P_mar = df[df['month']== 'march'].size/N\n",
    "P_apr = df[df['month']== 'april'].size/N\n",
    "P_may = df[df['month']== 'may'].size/N\n",
    "P_jun = df[df['month']== 'june'].size/N\n",
    "P_jul = df[df['month']== 'july'].size/N\n",
    "P_aug = df[df['month']== 'august'].size/N\n",
    "P_sep = df[df['month']== 'september'].size/N\n",
    "P_oct = df[df['month']== 'october'].size/N\n",
    "P_nov = df[df['month']== 'november'].size/N # -0.0001\n",
    "P_dec = df[df['month']== 'december'].size/N # -0.0001\n",
    "\n",
    "P_month = np.array([P_jan ,P_feb ,P_mar ,P_apr ,P_may ,P_jun,P_jul,P_aug,P_sep,P_oct,P_nov,P_nov])\n",
    "\n",
    "E_month =  entropy(P_month)\n",
    "\n",
    "\n",
    "P_low = df[df['wind_speed']== 'low'].size/N\n",
    "P_high = df[df['wind_speed']== 'high'].size/N\n",
    "P_no_wind = df[df['wind_speed']== 'no_wind'].size/N\n",
    "\n",
    "P_wind_speed = np.array([P_low , P_high , P_no_wind])\n",
    "\n",
    "E_wind_speed =  entropy(P_wind_speed)\n",
    "\n",
    "\n",
    "P_sunny = df[df['weather']== 'sunny'].size/N\n",
    "P_cloudy = df[df['weather']== 'cloudy'].size/N\n",
    "P_rainy = df[df['weather']== 'rainy'].size/N\n",
    "P_snowy = df[df['weather']== 'snowy'].size/N\n",
    "\n",
    "P_weather = np.array([P_sunny , P_cloudy , P_rainy, P_snowy ])\n",
    "E_weather =  entropy(P_weather)\n",
    "\n",
    "\n",
    "P_home = df[df['location']== 'home'].size/N\n",
    "P_away = df[df['location']== 'away'].size/N\n",
    "\n",
    "P_location = np.array([P_home , P_away])\n",
    "\n",
    "E_location =  entropy(P_location)\n",
    "\n",
    "P_small = df[df['capacity']== 'small'].size/N\n",
    "P_medium = df[df['capacity']== 'medium'].size/N\n",
    "P_large = df[df['capacity']== 'large'].size/N\n",
    "P_elite = df[df['capacity']== 'elite'].size/N\n",
    "\n",
    "P_capacity = np.array([P_small , P_medium , P_large, P_elite ])\n",
    "\n",
    "E_capacity =  entropy(P_capacity)\n",
    "\n",
    "P_dry = df[df['stadium_state']== 'dry'].size/N\n",
    "P_wet = df[df['stadium_state']== 'wet'].size/N\n",
    "\n",
    "P_stadium_state = np.array([P_dry , P_wet])\n",
    "\n",
    "E_stadium_state =  entropy(P_stadium_state)\n",
    "\n",
    "P_no = df[df['injury']== 'no'].size/N\n",
    "P_yes = df[df['injury']== 'yes'].size/N\n",
    "\n",
    "P_injury = np.array([P_no , P_yes])\n",
    "\n",
    "E_injury =  entropy(P_injury)\n",
    "\n",
    "\n",
    "P_friendly = df[df['match_type']== 'friendly'].size/N\n",
    "P_competitive = df[df['match_type']== 'competitive'].size/N\n",
    "\n",
    "P_match_type = np.array([P_friendly , P_competitive])\n",
    "\n",
    "E_match_type =  entropy(P_match_type)\n",
    "\n",
    "\n",
    "P_weak = df[df['opponent_strength']== 'weak'].size/N\n",
    "P_average = df[df['opponent_strength']== 'average'].size/N\n",
    "P_strong= df[df['opponent_strength']== 'strong'].size/N\n",
    "\n",
    "P_opponent_strength = np.array([P_weak, P_average , P_strong])\n",
    "\n",
    "E_opponent_strength =  entropy(P_opponent_strength)\n"
   ]
  },
  {
   "cell_type": "code",
   "execution_count": null,
   "metadata": {},
   "outputs": [],
   "source": []
  },
  {
   "cell_type": "code",
   "execution_count": null,
   "metadata": {},
   "outputs": [],
   "source": []
  }
 ],
 "metadata": {
  "colab": {
   "provenance": []
  },
  "kernelspec": {
   "display_name": "Python 3 (ipykernel)",
   "language": "python",
   "name": "python3"
  },
  "language_info": {
   "codemirror_mode": {
    "name": "ipython",
    "version": 3
   },
   "file_extension": ".py",
   "mimetype": "text/x-python",
   "name": "python",
   "nbconvert_exporter": "python",
   "pygments_lexer": "ipython3",
   "version": "3.10.4"
  }
 },
 "nbformat": 4,
 "nbformat_minor": 4
}
